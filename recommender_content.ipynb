{
 "cells": [
  {
   "cell_type": "markdown",
   "metadata": {},
   "source": [
    "## Second Practice Activity of a Recommendation System\n",
    "In the first notebook, I briefly explained recommendation systems and how to divide them. Furthermore, I implemented two initial collaborative methods, an item-based movie recommendation, and a user-based movie recommendation; these are simply methods using similarity metrics to recommend new movies."
   ]
  },
  {
   "cell_type": "markdown",
   "metadata": {},
   "source": [
    "Here, I want to implement a Content recommendation system, using the same movie dataset, with 3 new datasets. \n",
    "Content Approachs uses informations about the item/user to recommend. We preprocessing the data to have a dataset in the desired format."
   ]
  },
  {
   "cell_type": "code",
   "execution_count": 322,
   "metadata": {
    "ExecuteTime": {
     "end_time": "2024-01-11T12:01:31.703050200Z",
     "start_time": "2024-01-11T12:01:31.483604800Z"
    }
   },
   "outputs": [],
   "source": [
    "import numpy as np\n",
    "import pandas as pd\n",
    "from sklearn.feature_extraction.text import CountVectorizer\n",
    "from scipy.sparse import csr_matrix, csc_matrix\n",
    "from sklearn.metrics.pairwise import linear_kernel, cosine_similarity"
   ]
  },
  {
   "cell_type": "code",
   "execution_count": 323,
   "metadata": {
    "ExecuteTime": {
     "end_time": "2024-01-11T12:01:31.720048400Z",
     "start_time": "2024-01-11T12:01:31.496597100Z"
    }
   },
   "outputs": [],
   "source": [
    "def correlation_pearson_sparse_row(array, sparse_matrix):\n",
    "    \n",
    "    yy = array - array.mean() \n",
    "    xm = sparse_matrix.mean(axis=1).A.ravel() # pegando a média\n",
    "    ys = yy / np.sqrt(np.dot(yy, yy)) # calculando ys\n",
    "    xs = np.sqrt(np.add.reduceat(sparse_matrix.data**2, sparse_matrix.indptr[:-1]) - sparse_matrix.shape[1]*xm*xm)\n",
    "\n",
    "    correl2 = np.add.reduceat(sparse_matrix.data * ys[sparse_matrix.indices], sparse_matrix.indptr[:-1]) / xs\n",
    "    return correl2"
   ]
  },
  {
   "cell_type": "markdown",
   "metadata": {},
   "source": [
    "### Datasets"
   ]
  },
  {
   "cell_type": "code",
   "execution_count": 324,
   "metadata": {
    "ExecuteTime": {
     "end_time": "2024-01-11T12:01:31.805222Z",
     "start_time": "2024-01-11T12:01:31.554834500Z"
    }
   },
   "outputs": [
    {
     "name": "stdout",
     "output_type": "stream",
     "text": [
      "<class 'pandas.core.frame.DataFrame'>\n",
      "RangeIndex: 27278 entries, 0 to 27277\n",
      "Data columns (total 3 columns):\n",
      " #   Column   Non-Null Count  Dtype \n",
      "---  ------   --------------  ----- \n",
      " 0   movieId  27278 non-null  int64 \n",
      " 1   title    27278 non-null  object\n",
      " 2   genres   27278 non-null  object\n",
      "dtypes: int64(1), object(2)\n",
      "memory usage: 639.5+ KB\n"
     ]
    },
    {
     "data": {
      "text/plain": "   movieId                               title  \\\n0        1                    Toy Story (1995)   \n1        2                      Jumanji (1995)   \n2        3             Grumpier Old Men (1995)   \n3        4            Waiting to Exhale (1995)   \n4        5  Father of the Bride Part II (1995)   \n\n                                        genres  \n0  Adventure|Animation|Children|Comedy|Fantasy  \n1                   Adventure|Children|Fantasy  \n2                               Comedy|Romance  \n3                         Comedy|Drama|Romance  \n4                                       Comedy  ",
      "text/html": "<div>\n<style scoped>\n    .dataframe tbody tr th:only-of-type {\n        vertical-align: middle;\n    }\n\n    .dataframe tbody tr th {\n        vertical-align: top;\n    }\n\n    .dataframe thead th {\n        text-align: right;\n    }\n</style>\n<table border=\"1\" class=\"dataframe\">\n  <thead>\n    <tr style=\"text-align: right;\">\n      <th></th>\n      <th>movieId</th>\n      <th>title</th>\n      <th>genres</th>\n    </tr>\n  </thead>\n  <tbody>\n    <tr>\n      <th>0</th>\n      <td>1</td>\n      <td>Toy Story (1995)</td>\n      <td>Adventure|Animation|Children|Comedy|Fantasy</td>\n    </tr>\n    <tr>\n      <th>1</th>\n      <td>2</td>\n      <td>Jumanji (1995)</td>\n      <td>Adventure|Children|Fantasy</td>\n    </tr>\n    <tr>\n      <th>2</th>\n      <td>3</td>\n      <td>Grumpier Old Men (1995)</td>\n      <td>Comedy|Romance</td>\n    </tr>\n    <tr>\n      <th>3</th>\n      <td>4</td>\n      <td>Waiting to Exhale (1995)</td>\n      <td>Comedy|Drama|Romance</td>\n    </tr>\n    <tr>\n      <th>4</th>\n      <td>5</td>\n      <td>Father of the Bride Part II (1995)</td>\n      <td>Comedy</td>\n    </tr>\n  </tbody>\n</table>\n</div>"
     },
     "execution_count": 324,
     "metadata": {},
     "output_type": "execute_result"
    }
   ],
   "source": [
    "movies = pd.read_csv(\"../Datasets/Movies IMDB/info.csv\")\n",
    "\n",
    "# 27278 movies with 16 duplicated movies title, but with differents IDs\n",
    "# later i remove the duplicated movie titles to avoid problem\n",
    "\n",
    "movies.info()\n",
    "\n",
    "movies.head()\n",
    "\n",
    "# these movie dataset we used to obtain part of the content information about the movies, the genres"
   ]
  },
  {
   "cell_type": "code",
   "execution_count": 325,
   "metadata": {
    "ExecuteTime": {
     "end_time": "2024-01-11T12:01:32.586668400Z",
     "start_time": "2024-01-11T12:01:31.809225900Z"
    }
   },
   "outputs": [
    {
     "name": "stdout",
     "output_type": "stream",
     "text": [
      "<class 'pandas.core.frame.DataFrame'>\n",
      "RangeIndex: 465564 entries, 0 to 465563\n",
      "Data columns (total 2 columns):\n",
      " #   Column   Non-Null Count   Dtype \n",
      "---  ------   --------------   ----- \n",
      " 0   movieId  465564 non-null  int64 \n",
      " 1   tag      465548 non-null  object\n",
      "dtypes: int64(1), object(1)\n",
      "memory usage: 7.1+ MB\n"
     ]
    },
    {
     "data": {
      "text/plain": "   movieId            tag\n0     4141    Mark Waters\n1      208      dark hero\n2      353      dark hero\n3      521  noir thriller\n4      592      dark hero",
      "text/html": "<div>\n<style scoped>\n    .dataframe tbody tr th:only-of-type {\n        vertical-align: middle;\n    }\n\n    .dataframe tbody tr th {\n        vertical-align: top;\n    }\n\n    .dataframe thead th {\n        text-align: right;\n    }\n</style>\n<table border=\"1\" class=\"dataframe\">\n  <thead>\n    <tr style=\"text-align: right;\">\n      <th></th>\n      <th>movieId</th>\n      <th>tag</th>\n    </tr>\n  </thead>\n  <tbody>\n    <tr>\n      <th>0</th>\n      <td>4141</td>\n      <td>Mark Waters</td>\n    </tr>\n    <tr>\n      <th>1</th>\n      <td>208</td>\n      <td>dark hero</td>\n    </tr>\n    <tr>\n      <th>2</th>\n      <td>353</td>\n      <td>dark hero</td>\n    </tr>\n    <tr>\n      <th>3</th>\n      <td>521</td>\n      <td>noir thriller</td>\n    </tr>\n    <tr>\n      <th>4</th>\n      <td>592</td>\n      <td>dark hero</td>\n    </tr>\n  </tbody>\n</table>\n</div>"
     },
     "execution_count": 325,
     "metadata": {},
     "output_type": "execute_result"
    }
   ],
   "source": [
    "tags = pd.read_csv(\"../Datasets/Movies IMDB/tags.csv\").drop([\"timestamp\", \"userId\"], axis = 1) \n",
    "\n",
    "# 26744 movies\n",
    "# that dataset has tags about certain movies, these information is also used as content about the movies\n",
    "# bring new informations as Actors, Directors, etc.\n",
    "\n",
    "tags.info()\n",
    "\n",
    "tags.head()"
   ]
  },
  {
   "cell_type": "code",
   "execution_count": 326,
   "metadata": {
    "ExecuteTime": {
     "end_time": "2024-01-11T12:01:32.602938600Z",
     "start_time": "2024-01-11T12:01:32.588666900Z"
    }
   },
   "outputs": [],
   "source": [
    "movie_ids_ = tags[\"movieId\"]"
   ]
  },
  {
   "cell_type": "code",
   "execution_count": 327,
   "metadata": {
    "ExecuteTime": {
     "end_time": "2024-01-11T12:01:45.516501100Z",
     "start_time": "2024-01-11T12:01:32.607939200Z"
    }
   },
   "outputs": [
    {
     "name": "stdout",
     "output_type": "stream",
     "text": [
      "<class 'pandas.core.frame.DataFrame'>\n",
      "RangeIndex: 20000263 entries, 0 to 20000262\n",
      "Data columns (total 3 columns):\n",
      " #   Column   Dtype  \n",
      "---  ------   -----  \n",
      " 0   userId   int64  \n",
      " 1   movieId  int64  \n",
      " 2   rating   float64\n",
      "dtypes: float64(1), int64(2)\n",
      "memory usage: 457.8 MB\n"
     ]
    },
    {
     "data": {
      "text/plain": "   userId  movieId  rating\n0       1        2     3.5\n1       1       29     3.5\n2       1       32     3.5\n3       1       47     3.5\n4       1       50     3.5",
      "text/html": "<div>\n<style scoped>\n    .dataframe tbody tr th:only-of-type {\n        vertical-align: middle;\n    }\n\n    .dataframe tbody tr th {\n        vertical-align: top;\n    }\n\n    .dataframe thead th {\n        text-align: right;\n    }\n</style>\n<table border=\"1\" class=\"dataframe\">\n  <thead>\n    <tr style=\"text-align: right;\">\n      <th></th>\n      <th>userId</th>\n      <th>movieId</th>\n      <th>rating</th>\n    </tr>\n  </thead>\n  <tbody>\n    <tr>\n      <th>0</th>\n      <td>1</td>\n      <td>2</td>\n      <td>3.5</td>\n    </tr>\n    <tr>\n      <th>1</th>\n      <td>1</td>\n      <td>29</td>\n      <td>3.5</td>\n    </tr>\n    <tr>\n      <th>2</th>\n      <td>1</td>\n      <td>32</td>\n      <td>3.5</td>\n    </tr>\n    <tr>\n      <th>3</th>\n      <td>1</td>\n      <td>47</td>\n      <td>3.5</td>\n    </tr>\n    <tr>\n      <th>4</th>\n      <td>1</td>\n      <td>50</td>\n      <td>3.5</td>\n    </tr>\n  </tbody>\n</table>\n</div>"
     },
     "execution_count": 327,
     "metadata": {},
     "output_type": "execute_result"
    }
   ],
   "source": [
    "ratings = pd.read_csv(\"../Datasets/Movies IMDB/ratings.csv\").drop(\"timestamp\", axis = 1) #use later\n",
    "# 19545 movies\n",
    "# Dataset with user-movie interactions with ratings in interval [1, 5]\n",
    "\n",
    "ratings.info()\n",
    "\n",
    "ratings.head()"
   ]
  },
  {
   "cell_type": "markdown",
   "metadata": {},
   "source": [
    "### Preprocessing the content data\n",
    "\n",
    "To obtain the desired content dataset we reformat the genres column in movie dataset and aggroup the important tags in the tags dataset."
   ]
  },
  {
   "cell_type": "code",
   "execution_count": 328,
   "metadata": {
    "ExecuteTime": {
     "end_time": "2024-01-11T12:01:47.160092900Z",
     "start_time": "2024-01-11T12:01:45.517495800Z"
    }
   },
   "outputs": [
    {
     "data": {
      "text/plain": "   movieId                                                tag\n0        1  Watched; Computeranimation; Disneyanimatedfeat...\n1        2  Timetravel; Adaptedfrom:book; Boardgame; Child...\n2        3  Oldpeoplethatisactuallyfunny; Sequelfever; Gru...\n3        4               Chickflick; Revenge; Characters; Clv\n4        5  Dianekeaton; Family; Sequel; Stevemartin; Wedd...",
      "text/html": "<div>\n<style scoped>\n    .dataframe tbody tr th:only-of-type {\n        vertical-align: middle;\n    }\n\n    .dataframe tbody tr th {\n        vertical-align: top;\n    }\n\n    .dataframe thead th {\n        text-align: right;\n    }\n</style>\n<table border=\"1\" class=\"dataframe\">\n  <thead>\n    <tr style=\"text-align: right;\">\n      <th></th>\n      <th>movieId</th>\n      <th>tag</th>\n    </tr>\n  </thead>\n  <tbody>\n    <tr>\n      <th>0</th>\n      <td>1</td>\n      <td>Watched; Computeranimation; Disneyanimatedfeat...</td>\n    </tr>\n    <tr>\n      <th>1</th>\n      <td>2</td>\n      <td>Timetravel; Adaptedfrom:book; Boardgame; Child...</td>\n    </tr>\n    <tr>\n      <th>2</th>\n      <td>3</td>\n      <td>Oldpeoplethatisactuallyfunny; Sequelfever; Gru...</td>\n    </tr>\n    <tr>\n      <th>3</th>\n      <td>4</td>\n      <td>Chickflick; Revenge; Characters; Clv</td>\n    </tr>\n    <tr>\n      <th>4</th>\n      <td>5</td>\n      <td>Dianekeaton; Family; Sequel; Stevemartin; Wedd...</td>\n    </tr>\n  </tbody>\n</table>\n</div>"
     },
     "execution_count": 328,
     "metadata": {},
     "output_type": "execute_result"
    }
   ],
   "source": [
    "# modifying tags\n",
    "\n",
    "formatted_tags = tags.copy()\n",
    "\n",
    "formatted_tags['tag'] = tags['tag'].astype(str).apply(lambda x: x.capitalize().strip().replace(\" \", \"\")) # formatting tags\n",
    "formatted_tags = formatted_tags.drop_duplicates()\n",
    "\n",
    "tags_grouped_by_id = formatted_tags.groupby(['movieId'], as_index=False).agg({'tag': '; '.join}) # to aggroup tags by movieId\n",
    "\n",
    "tags_grouped_by_id.head()"
   ]
  },
  {
   "cell_type": "code",
   "execution_count": 329,
   "metadata": {
    "ExecuteTime": {
     "end_time": "2024-01-11T12:01:47.267007Z",
     "start_time": "2024-01-11T12:01:47.197623400Z"
    }
   },
   "outputs": [],
   "source": [
    "# formatting movies\n",
    "movies.loc[:, \"genres\"] = movies.loc[:, \"genres\"].str.replace(\"|\", \"; \", regex = False)\n",
    "movies.loc[:, \"genres\"].replace(\"(no genres listed)\", \"\" , inplace = True) # basically change no genres listed to NaN\n",
    "\n",
    "movies.head()\n",
    "\n",
    "movies.loc[:, \"genres\"] = \"\""
   ]
  },
  {
   "cell_type": "code",
   "execution_count": 330,
   "metadata": {
    "ExecuteTime": {
     "end_time": "2024-01-11T12:01:47.335265Z",
     "start_time": "2024-01-11T12:01:47.214688200Z"
    }
   },
   "outputs": [
    {
     "data": {
      "text/plain": "   movieId                               title  \\\n0        1                    Toy Story (1995)   \n1        2                      Jumanji (1995)   \n2        3             Grumpier Old Men (1995)   \n3        4            Waiting to Exhale (1995)   \n4        5  Father of the Bride Part II (1995)   \n\n                                                tags  \n0  ; Watched; Computeranimation; Disneyanimatedfe...  \n1  ; Timetravel; Adaptedfrom:book; Boardgame; Chi...  \n2  ; Oldpeoplethatisactuallyfunny; Sequelfever; G...  \n3             ; Chickflick; Revenge; Characters; Clv  \n4  ; Dianekeaton; Family; Sequel; Stevemartin; We...  ",
      "text/html": "<div>\n<style scoped>\n    .dataframe tbody tr th:only-of-type {\n        vertical-align: middle;\n    }\n\n    .dataframe tbody tr th {\n        vertical-align: top;\n    }\n\n    .dataframe thead th {\n        text-align: right;\n    }\n</style>\n<table border=\"1\" class=\"dataframe\">\n  <thead>\n    <tr style=\"text-align: right;\">\n      <th></th>\n      <th>movieId</th>\n      <th>title</th>\n      <th>tags</th>\n    </tr>\n  </thead>\n  <tbody>\n    <tr>\n      <th>0</th>\n      <td>1</td>\n      <td>Toy Story (1995)</td>\n      <td>; Watched; Computeranimation; Disneyanimatedfe...</td>\n    </tr>\n    <tr>\n      <th>1</th>\n      <td>2</td>\n      <td>Jumanji (1995)</td>\n      <td>; Timetravel; Adaptedfrom:book; Boardgame; Chi...</td>\n    </tr>\n    <tr>\n      <th>2</th>\n      <td>3</td>\n      <td>Grumpier Old Men (1995)</td>\n      <td>; Oldpeoplethatisactuallyfunny; Sequelfever; G...</td>\n    </tr>\n    <tr>\n      <th>3</th>\n      <td>4</td>\n      <td>Waiting to Exhale (1995)</td>\n      <td>; Chickflick; Revenge; Characters; Clv</td>\n    </tr>\n    <tr>\n      <th>4</th>\n      <td>5</td>\n      <td>Father of the Bride Part II (1995)</td>\n      <td>; Dianekeaton; Family; Sequel; Stevemartin; We...</td>\n    </tr>\n  </tbody>\n</table>\n</div>"
     },
     "execution_count": 330,
     "metadata": {},
     "output_type": "execute_result"
    }
   ],
   "source": [
    "df_merged = pd.merge(movies, tags_grouped_by_id, on = \"movieId\", how = \"outer\") # outer join with the two dataframes\n",
    "\n",
    "df_merged.loc[:, \"genres\"].replace(np.nan, \"\", inplace = True)\n",
    "df_merged.loc[:, \"tag\"].replace(np.nan, \"\", inplace = True)\n",
    "df_merged[\"tags\"] = df_merged[\"genres\"] + \"; \"+ df_merged[\"tag\"] # uning genres and tags in one columns tags\n",
    "df_merged.drop([\"genres\", \"tag\"], axis = 1, inplace = True)\n",
    "\n",
    "df_merged.head()"
   ]
  },
  {
   "cell_type": "code",
   "execution_count": 331,
   "metadata": {
    "ExecuteTime": {
     "end_time": "2024-01-11T12:01:47.423823800Z",
     "start_time": "2024-01-11T12:01:47.339176900Z"
    }
   },
   "outputs": [
    {
     "data": {
      "text/plain": "(7733,)"
     },
     "execution_count": 331,
     "metadata": {},
     "output_type": "execute_result"
    }
   ],
   "source": [
    "without_tags = df_merged[df_merged[\"tags\"] == \"; \"][\"movieId\"] # save to remove later\n",
    "\n",
    "without_tags.shape"
   ]
  },
  {
   "cell_type": "code",
   "execution_count": 332,
   "metadata": {
    "ExecuteTime": {
     "end_time": "2024-01-11T12:01:47.547448600Z",
     "start_time": "2024-01-11T12:01:47.386720500Z"
    }
   },
   "outputs": [
    {
     "data": {
      "text/plain": "(27278,)"
     },
     "execution_count": 332,
     "metadata": {},
     "output_type": "execute_result"
    }
   ],
   "source": [
    "df_merged[\"movieId\"].unique().shape # checking if has two same ids"
   ]
  },
  {
   "cell_type": "code",
   "execution_count": 333,
   "metadata": {
    "ExecuteTime": {
     "end_time": "2024-01-11T12:01:47.564458700Z",
     "start_time": "2024-01-11T12:01:47.418806500Z"
    }
   },
   "outputs": [
    {
     "name": "stdout",
     "output_type": "stream",
     "text": [
      "tags:  (19545, 2)  \n",
      "movies: (27278, 3)  \n",
      "df_merged: (27278, 3)\n"
     ]
    }
   ],
   "source": [
    "print(\"tags: \",tags_grouped_by_id.shape, \" \\nmovies:\", movies.shape, \" \\ndf_merged:\", df_merged.shape)"
   ]
  },
  {
   "cell_type": "code",
   "execution_count": 334,
   "metadata": {
    "ExecuteTime": {
     "end_time": "2024-01-11T12:01:48.231882800Z",
     "start_time": "2024-01-11T12:01:47.433933600Z"
    }
   },
   "outputs": [
    {
     "data": {
      "text/plain": "<27278x34957 sparse matrix of type '<class 'numpy.int32'>'\n\twith 213797 stored elements in Compressed Sparse Row format>"
     },
     "execution_count": 334,
     "metadata": {},
     "output_type": "execute_result"
    }
   ],
   "source": [
    "vectorizer_tags = CountVectorizer(dtype = np.int8)\n",
    "\n",
    "tags_vectorized = vectorizer_tags.fit_transform(df_merged.loc[:, \"tags\"])\n",
    "tags_names = vectorizer_tags.get_feature_names_out()\n",
    "\n",
    "tags_vectorized.data = np.where(tags_vectorized.data != 0, 1, 0)\n",
    "tags_vectorized"
   ]
  },
  {
   "cell_type": "code",
   "execution_count": 335,
   "metadata": {
    "ExecuteTime": {
     "end_time": "2024-01-11T12:01:48.662539400Z",
     "start_time": "2024-01-11T12:01:48.213800900Z"
    }
   },
   "outputs": [
    {
     "data": {
      "text/plain": "(27278, 2935)"
     },
     "execution_count": 335,
     "metadata": {},
     "output_type": "execute_result"
    }
   ],
   "source": [
    "# we filter some tags to have just the more frequent tags, more important ones\n",
    "\n",
    "tags_counts = np.array(tags_vectorized.sum(axis=0))[0]\n",
    "filter_ = (tags_counts > 10)\n",
    "\n",
    "names_filtered = tags_names[filter_] # 35k para 3k\n",
    "\n",
    "tags_vectorized = pd.DataFrame((tags_vectorized[:, filter_].toarray()), columns = names_filtered)\n",
    "tags_vectorized.drop([\"tag\", \"watched\"], axis = 1, inplace = True)\n",
    "\n",
    "tags_vectorized.shape"
   ]
  },
  {
   "cell_type": "code",
   "execution_count": 336,
   "metadata": {
    "ExecuteTime": {
     "end_time": "2024-01-11T12:01:48.723061800Z",
     "start_time": "2024-01-11T12:01:48.663540200Z"
    }
   },
   "outputs": [
    {
     "data": {
      "text/plain": "   007  01  02  03  04  05  06  07  08  09  ...  yakuza  yasujirôozu  youth  \\\n0    0   0   0   0   0   0   0   0   0   0  ...       0            0      0   \n1    0   0   0   0   0   0   0   0   0   0  ...       0            0      0   \n2    0   0   0   0   0   0   0   0   0   0  ...       0            0      0   \n3    0   0   0   0   0   0   0   0   0   0  ...       0            0      0   \n4    0   0   0   0   0   0   0   0   0   0  ...       0            0      0   \n\n   youtube  zachgalifianakis  zatoichi  zhangyimou  zombie  zombies  \\\n0        0                 0         0           0       0        0   \n1        0                 0         0           0       0        0   \n2        0                 0         0           0       0        0   \n3        0                 0         0           0       0        0   \n4        0                 0         0           0       0        0   \n\n   zooeydeschanel  \n0               0  \n1               0  \n2               0  \n3               0  \n4               0  \n\n[5 rows x 2935 columns]",
      "text/html": "<div>\n<style scoped>\n    .dataframe tbody tr th:only-of-type {\n        vertical-align: middle;\n    }\n\n    .dataframe tbody tr th {\n        vertical-align: top;\n    }\n\n    .dataframe thead th {\n        text-align: right;\n    }\n</style>\n<table border=\"1\" class=\"dataframe\">\n  <thead>\n    <tr style=\"text-align: right;\">\n      <th></th>\n      <th>007</th>\n      <th>01</th>\n      <th>02</th>\n      <th>03</th>\n      <th>04</th>\n      <th>05</th>\n      <th>06</th>\n      <th>07</th>\n      <th>08</th>\n      <th>09</th>\n      <th>...</th>\n      <th>yakuza</th>\n      <th>yasujirôozu</th>\n      <th>youth</th>\n      <th>youtube</th>\n      <th>zachgalifianakis</th>\n      <th>zatoichi</th>\n      <th>zhangyimou</th>\n      <th>zombie</th>\n      <th>zombies</th>\n      <th>zooeydeschanel</th>\n    </tr>\n  </thead>\n  <tbody>\n    <tr>\n      <th>0</th>\n      <td>0</td>\n      <td>0</td>\n      <td>0</td>\n      <td>0</td>\n      <td>0</td>\n      <td>0</td>\n      <td>0</td>\n      <td>0</td>\n      <td>0</td>\n      <td>0</td>\n      <td>...</td>\n      <td>0</td>\n      <td>0</td>\n      <td>0</td>\n      <td>0</td>\n      <td>0</td>\n      <td>0</td>\n      <td>0</td>\n      <td>0</td>\n      <td>0</td>\n      <td>0</td>\n    </tr>\n    <tr>\n      <th>1</th>\n      <td>0</td>\n      <td>0</td>\n      <td>0</td>\n      <td>0</td>\n      <td>0</td>\n      <td>0</td>\n      <td>0</td>\n      <td>0</td>\n      <td>0</td>\n      <td>0</td>\n      <td>...</td>\n      <td>0</td>\n      <td>0</td>\n      <td>0</td>\n      <td>0</td>\n      <td>0</td>\n      <td>0</td>\n      <td>0</td>\n      <td>0</td>\n      <td>0</td>\n      <td>0</td>\n    </tr>\n    <tr>\n      <th>2</th>\n      <td>0</td>\n      <td>0</td>\n      <td>0</td>\n      <td>0</td>\n      <td>0</td>\n      <td>0</td>\n      <td>0</td>\n      <td>0</td>\n      <td>0</td>\n      <td>0</td>\n      <td>...</td>\n      <td>0</td>\n      <td>0</td>\n      <td>0</td>\n      <td>0</td>\n      <td>0</td>\n      <td>0</td>\n      <td>0</td>\n      <td>0</td>\n      <td>0</td>\n      <td>0</td>\n    </tr>\n    <tr>\n      <th>3</th>\n      <td>0</td>\n      <td>0</td>\n      <td>0</td>\n      <td>0</td>\n      <td>0</td>\n      <td>0</td>\n      <td>0</td>\n      <td>0</td>\n      <td>0</td>\n      <td>0</td>\n      <td>...</td>\n      <td>0</td>\n      <td>0</td>\n      <td>0</td>\n      <td>0</td>\n      <td>0</td>\n      <td>0</td>\n      <td>0</td>\n      <td>0</td>\n      <td>0</td>\n      <td>0</td>\n    </tr>\n    <tr>\n      <th>4</th>\n      <td>0</td>\n      <td>0</td>\n      <td>0</td>\n      <td>0</td>\n      <td>0</td>\n      <td>0</td>\n      <td>0</td>\n      <td>0</td>\n      <td>0</td>\n      <td>0</td>\n      <td>...</td>\n      <td>0</td>\n      <td>0</td>\n      <td>0</td>\n      <td>0</td>\n      <td>0</td>\n      <td>0</td>\n      <td>0</td>\n      <td>0</td>\n      <td>0</td>\n      <td>0</td>\n    </tr>\n  </tbody>\n</table>\n<p>5 rows × 2935 columns</p>\n</div>"
     },
     "execution_count": 336,
     "metadata": {},
     "output_type": "execute_result"
    }
   ],
   "source": [
    "tags_vectorized.head()"
   ]
  },
  {
   "cell_type": "code",
   "execution_count": 337,
   "metadata": {
    "ExecuteTime": {
     "end_time": "2024-01-11T12:01:49.941592100Z",
     "start_time": "2024-01-11T12:01:48.699545900Z"
    }
   },
   "outputs": [],
   "source": [
    "tags_final = pd.concat([df_merged[\"movieId\"], tags_vectorized], axis = 1)\n",
    "\n",
    "tags_final.drop(tags_final[tags_final[\"movieId\"].isin(without_tags)].index, inplace = True)\n",
    "# removing movies without any tag"
   ]
  },
  {
   "cell_type": "code",
   "execution_count": 338,
   "metadata": {
    "ExecuteTime": {
     "end_time": "2024-01-11T12:01:52.879562200Z",
     "start_time": "2024-01-11T12:01:49.944597Z"
    }
   },
   "outputs": [
    {
     "data": {
      "text/plain": "   movieId             title  userId  rating\n0        1  Toy Story (1995)       3     4.0\n1        1  Toy Story (1995)       6     5.0\n2        1  Toy Story (1995)       8     4.0\n3        1  Toy Story (1995)      10     4.0\n4        1  Toy Story (1995)      11     4.5",
      "text/html": "<div>\n<style scoped>\n    .dataframe tbody tr th:only-of-type {\n        vertical-align: middle;\n    }\n\n    .dataframe tbody tr th {\n        vertical-align: top;\n    }\n\n    .dataframe thead th {\n        text-align: right;\n    }\n</style>\n<table border=\"1\" class=\"dataframe\">\n  <thead>\n    <tr style=\"text-align: right;\">\n      <th></th>\n      <th>movieId</th>\n      <th>title</th>\n      <th>userId</th>\n      <th>rating</th>\n    </tr>\n  </thead>\n  <tbody>\n    <tr>\n      <th>0</th>\n      <td>1</td>\n      <td>Toy Story (1995)</td>\n      <td>3</td>\n      <td>4.0</td>\n    </tr>\n    <tr>\n      <th>1</th>\n      <td>1</td>\n      <td>Toy Story (1995)</td>\n      <td>6</td>\n      <td>5.0</td>\n    </tr>\n    <tr>\n      <th>2</th>\n      <td>1</td>\n      <td>Toy Story (1995)</td>\n      <td>8</td>\n      <td>4.0</td>\n    </tr>\n    <tr>\n      <th>3</th>\n      <td>1</td>\n      <td>Toy Story (1995)</td>\n      <td>10</td>\n      <td>4.0</td>\n    </tr>\n    <tr>\n      <th>4</th>\n      <td>1</td>\n      <td>Toy Story (1995)</td>\n      <td>11</td>\n      <td>4.5</td>\n    </tr>\n  </tbody>\n</table>\n</div>"
     },
     "execution_count": 338,
     "metadata": {},
     "output_type": "execute_result"
    }
   ],
   "source": [
    "new_ratings = pd.merge(movies.drop(\"genres\", axis = 1), ratings, on = \"movieId\")\n",
    "\n",
    "new_ratings.head()"
   ]
  },
  {
   "cell_type": "code",
   "execution_count": 339,
   "metadata": {
    "ExecuteTime": {
     "end_time": "2024-01-11T12:01:58.752430100Z",
     "start_time": "2024-01-11T12:01:52.883557900Z"
    }
   },
   "outputs": [
    {
     "data": {
      "text/plain": "(19940607, 4)"
     },
     "execution_count": 339,
     "metadata": {},
     "output_type": "execute_result"
    }
   ],
   "source": [
    "count = new_ratings.groupby(\"title\")[\"movieId\"].nunique()\n",
    "\n",
    "dup_movies = (count[count>1].index).tolist()\n",
    "\n",
    "new_ratings = new_ratings.drop(new_ratings[new_ratings[\"title\"].isin(dup_movies)].index)\n",
    "\n",
    "new_ratings.shape\n",
    "#Dropping duplicate movies"
   ]
  },
  {
   "cell_type": "code",
   "execution_count": 340,
   "metadata": {
    "ExecuteTime": {
     "end_time": "2024-01-11T12:02:02.531215500Z",
     "start_time": "2024-01-11T12:01:58.757425800Z"
    }
   },
   "outputs": [
    {
     "data": {
      "text/plain": "(19794945, 4)"
     },
     "execution_count": 340,
     "metadata": {},
     "output_type": "execute_result"
    }
   ],
   "source": [
    "# Here we maintain just the movies which appear in the two datasets(ratings and tags)\n",
    "\n",
    "tags_movie_ids = tags_final[\"movieId\"]\n",
    "ratings_movie_ids = new_ratings[\"movieId\"]\n",
    "\n",
    "common_movie_ids = pd.Series(list(set(tags_movie_ids) & set(ratings_movie_ids)))\n",
    "\n",
    "common_movie_ids.shape\n",
    "\n",
    "new_ratings = new_ratings.drop(new_ratings[~(new_ratings['movieId'].isin(common_movie_ids))].index)\n",
    "\n",
    "tags_final = tags_final.drop(tags_final[~(tags_final['movieId'].isin(common_movie_ids))].index)\n",
    "\n",
    "new_ratings.shape"
   ]
  },
  {
   "cell_type": "code",
   "execution_count": 341,
   "metadata": {
    "ExecuteTime": {
     "end_time": "2024-01-11T12:02:20.826297Z",
     "start_time": "2024-01-11T12:02:02.539231100Z"
    }
   },
   "outputs": [
    {
     "name": "stdout",
     "output_type": "stream",
     "text": [
      "(138493, 18991)\n"
     ]
    }
   ],
   "source": [
    "# Code to create the pivot table in a efficient way in csr matrix\n",
    "\n",
    "user_ids = new_ratings['userId'].unique()\n",
    "title_ids = new_ratings['title'].unique()\n",
    "\n",
    "user_to_row = {user_id: i for i, user_id in enumerate(new_ratings['userId'].unique())} # dict used to userNames\n",
    "title_to_col = {title: j for j, title in enumerate(new_ratings['title'].unique())} # dict used to itemNames\n",
    "\n",
    "rows = [user_to_row[user_id] for user_id in new_ratings['userId']]\n",
    "cols = [title_to_col[title] for title in new_ratings['title']]\n",
    "ratings_values = new_ratings['rating'].tolist()\n",
    "\n",
    "sparse_matrix = csr_matrix((ratings_values, (rows, cols)), shape=(len(user_ids), len(title_ids)), dtype = np.int8)\n",
    "\n",
    "print(sparse_matrix.shape)"
   ]
  },
  {
   "cell_type": "code",
   "execution_count": 342,
   "metadata": {
    "ExecuteTime": {
     "end_time": "2024-01-11T12:02:20.982346400Z",
     "start_time": "2024-01-11T12:02:20.481623200Z"
    }
   },
   "outputs": [],
   "source": [
    "movie_names = pd.Series(list(title_to_col.keys()))\n",
    "user_names = pd.Series(list(user_to_row.keys()))\n",
    "\n",
    "pivot_csr = sparse_matrix"
   ]
  },
  {
   "cell_type": "code",
   "execution_count": 343,
   "metadata": {
    "ExecuteTime": {
     "end_time": "2024-01-11T12:02:21.700903900Z",
     "start_time": "2024-01-11T12:02:20.979352900Z"
    }
   },
   "outputs": [
    {
     "name": "stdout",
     "output_type": "stream",
     "text": [
      "names:  (18991,)   ids:  (18991,)\n"
     ]
    }
   ],
   "source": [
    "movie_ids = tags_final[\"movieId\"]\n",
    "movie_names = pd.merge(movies[[\"movieId\", \"title\"]], tags_final[\"movieId\"], on = \"movieId\")[\"title\"]\n",
    "\n",
    "print(\"names: \",movie_names.shape,\"  ids: \", movie_ids.shape)\n",
    "\n",
    "tags_final = tags_final.drop(\"movieId\", axis = 1)\n",
    "\n",
    "tags_array = np.array(tags_final, dtype = np.int8)\n",
    "tags_csr = csr_matrix(tags_final, dtype = np.int8)"
   ]
  },
  {
   "cell_type": "code",
   "execution_count": 344,
   "metadata": {
    "ExecuteTime": {
     "end_time": "2024-01-11T12:02:21.827502900Z",
     "start_time": "2024-01-11T12:02:21.705906500Z"
    }
   },
   "outputs": [],
   "source": [
    "del new_ratings, tags_grouped_by_id, tags_vectorized, tags_final, movies, ratings"
   ]
  },
  {
   "cell_type": "markdown",
   "metadata": {},
   "source": [
    "To make the user recommendation we need another dataset, final_csr which can be interpreted as the the characteristics of the movies watched by a user"
   ]
  },
  {
   "cell_type": "code",
   "execution_count": 345,
   "metadata": {
    "ExecuteTime": {
     "end_time": "2024-01-11T12:02:27.837038800Z",
     "start_time": "2024-01-11T12:02:21.829504400Z"
    }
   },
   "outputs": [],
   "source": [
    "reduced_pivot = csr_matrix(pivot_csr, dtype = np.float16)\n",
    "\n",
    "result_dot = reduced_pivot.dot(tags_csr)"
   ]
  },
  {
   "cell_type": "code",
   "execution_count": 346,
   "metadata": {
    "ExecuteTime": {
     "end_time": "2024-01-11T12:02:27.852028500Z",
     "start_time": "2024-01-11T12:02:27.844027500Z"
    }
   },
   "outputs": [],
   "source": [
    "tags_sum = np.array(tags_csr.sum(axis = 0), dtype = np.float16)[0]"
   ]
  },
  {
   "cell_type": "code",
   "execution_count": 347,
   "outputs": [],
   "source": [
    "final_coo = result_dot / tags_sum # extremely heavy line, use a lot of RAM\n",
    "\n",
    "final_csr = csr_matrix(final_coo, dtype = np.float16)"
   ],
   "metadata": {
    "collapsed": false,
    "ExecuteTime": {
     "end_time": "2024-01-11T12:02:40.385676100Z",
     "start_time": "2024-01-11T12:02:27.859549600Z"
    }
   }
  },
  {
   "cell_type": "code",
   "execution_count": 348,
   "metadata": {
    "ExecuteTime": {
     "end_time": "2024-01-11T12:02:40.665491200Z",
     "start_time": "2024-01-11T12:02:40.392014800Z"
    }
   },
   "outputs": [],
   "source": [
    "del result_dot, tags_sum, final_coo, reduced_pivot"
   ]
  },
  {
   "cell_type": "markdown",
   "metadata": {},
   "source": [
    "### Recommendations\n",
    "\n",
    "With the all datasets preprocessed we create the recommendations recommendations to item and user."
   ]
  },
  {
   "cell_type": "code",
   "execution_count": 349,
   "metadata": {
    "ExecuteTime": {
     "end_time": "2024-01-11T12:02:40.722685900Z",
     "start_time": "2024-01-11T12:02:40.709689200Z"
    }
   },
   "outputs": [],
   "source": [
    "def get_recommendation_item(movie_name, metric):\n",
    "    if (movie_name is None):\n",
    "        print(\"Movie not found.\")\n",
    "        return None\n",
    "    \n",
    "    # ou dar o nome exato ou não roda\n",
    "    \n",
    "    movie = tags_array[pd.Index(movie_names).get_loc(movie_name), :]\n",
    "\n",
    "    if metric == \"cosine\":\n",
    "        similarity = cosine_similarity(movie.reshape(1, -1), tags_csr)[0]\n",
    "    elif metric == \"pearson\":\n",
    "        similarity = correlation_pearson_sparse_row(movie, tags_csr)\n",
    "    else: \n",
    "        print(\"Unknown Metric.\")\n",
    "        return None\n",
    "    \n",
    "    order = np.argsort(-similarity)\n",
    "\n",
    "    top_10 = similarity[order[1:11]]\n",
    "    top_10_names = movie_names[order[1:11]]\n",
    "    \n",
    "    return (list(top_10_names), top_10)"
   ]
  },
  {
   "cell_type": "code",
   "execution_count": 350,
   "metadata": {
    "ExecuteTime": {
     "end_time": "2024-01-11T12:02:41.121020400Z",
     "start_time": "2024-01-11T12:02:40.724687200Z"
    }
   },
   "outputs": [
    {
     "data": {
      "text/plain": "(['Batman (1966)',\n  'Batman Forever (1995)',\n  'Superman III (1983)',\n  'Batman: Mask of the Phantasm (1993)',\n  'Batman Returns (1992)',\n  'Batman Beyond: Return of the Joker (2000)',\n  'Batman: Gotham Knight (2008)',\n  'Superman IV: The Quest for Peace (1987)',\n  'Batman (1989)',\n  'Superman II (1980)'],\n array([0.53422445, 0.4810512 , 0.47105572, 0.45425676, 0.40032038,\n        0.39629696, 0.39629696, 0.3933979 , 0.34027233, 0.33968311]))"
     },
     "execution_count": 350,
     "metadata": {},
     "output_type": "execute_result"
    }
   ],
   "source": [
    "get_recommendation_item(\"Batman & Robin (1997)\", \"cosine\")"
   ]
  },
  {
   "cell_type": "code",
   "execution_count": 351,
   "metadata": {
    "ExecuteTime": {
     "end_time": "2024-01-11T12:02:41.199271300Z",
     "start_time": "2024-01-11T12:02:41.152903700Z"
    }
   },
   "outputs": [
    {
     "data": {
      "text/plain": "(['Batman (1966)',\n  'Batman Forever (1995)',\n  'Superman III (1983)',\n  'Batman: Mask of the Phantasm (1993)',\n  'Batman Beyond: Return of the Joker (2000)',\n  'Batman: Gotham Knight (2008)',\n  'Batman Returns (1992)',\n  'Superman IV: The Quest for Peace (1987)',\n  'Superman II (1980)',\n  'Batman (1989)'],\n array([0.52961592, 0.47397287, 0.4653604 , 0.44909869, 0.39343441,\n        0.39343441, 0.39256963, 0.38655158, 0.33165842, 0.3290266 ]))"
     },
     "execution_count": 351,
     "metadata": {},
     "output_type": "execute_result"
    }
   ],
   "source": [
    "get_recommendation_item(\"Batman & Robin (1997)\", \"pearson\")"
   ]
  },
  {
   "cell_type": "code",
   "execution_count": 352,
   "metadata": {
    "ExecuteTime": {
     "end_time": "2024-01-11T12:02:41.276803700Z",
     "start_time": "2024-01-11T12:02:41.244419300Z"
    }
   },
   "outputs": [],
   "source": [
    "def get_recommendation_user(user_name):\n",
    "    if (user_name is None):\n",
    "        print(\"User not found.\")\n",
    "        return None\n",
    "    user_id = pd.Index(user_names).get_loc(user_name)\n",
    "    \n",
    "    user_movies = pivot_csr[user_id, :].toarray()\n",
    "    user_characteristics = final_csr[user_id, :]\n",
    "    \n",
    "    unwatched_movies = (user_movies == 0)[0]\n",
    "    unwatched_movies_charac = tags_csr[unwatched_movies, :].T\n",
    "    \n",
    "    scores = user_characteristics.dot(unwatched_movies_charac).toarray()[0]\n",
    "    \n",
    "    names = movie_names[unwatched_movies]\n",
    "    order = scores.argsort()[::-1]\n",
    "    \n",
    "    return names.iloc[order], scores[order]"
   ]
  },
  {
   "cell_type": "code",
   "execution_count": 353,
   "metadata": {
    "ExecuteTime": {
     "end_time": "2024-01-11T12:02:41.807271800Z",
     "start_time": "2024-01-11T12:02:41.292080500Z"
    }
   },
   "outputs": [
    {
     "data": {
      "text/plain": "(258                                    Pulp Fiction (1994)\n 312                                    Forrest Gump (1994)\n 4224     Lord of the Rings: The Fellowship of the Ring,...\n 2462                                     Fight Club (1999)\n 6090     Lord of the Rings: The Return of the King, The...\n                                ...                        \n 7834                      Strangers in Good Company (1990)\n 18192                        Leave The World Behind (2014)\n 2846     Carriers Are Waiting, The (Convoyeurs attenden...\n 7824                       Mannequin 2: On the Move (1991)\n 13331                 Stray Dogs (Sag-haye velgard) (2004)\n Name: title, Length: 18804, dtype: object,\n array([77.12048, 67.86047, 53.95102, ...,  0.     ,  0.     ,  0.     ],\n       dtype=float32))"
     },
     "execution_count": 353,
     "metadata": {},
     "output_type": "execute_result"
    }
   ],
   "source": [
    "get_recommendation_user(3)"
   ]
  },
  {
   "cell_type": "code",
   "execution_count": 354,
   "metadata": {
    "ExecuteTime": {
     "end_time": "2024-01-11T12:02:42.243953500Z",
     "start_time": "2024-01-11T12:02:41.848209800Z"
    }
   },
   "outputs": [
    {
     "data": {
      "text/plain": "(977      Star Wars: Episode VI - Return of the Jedi (1983)\n 258                                    Pulp Fiction (1994)\n 968                                          Aliens (1986)\n 2114                                    Matrix, The (1999)\n 416                                   Jurassic Park (1993)\n                                ...                        \n 15370                          Weight of the Nation (2012)\n 5162     Labyrinth of Passion (Laberinto de Pasiones) (...\n 12098                                          Ryan (2004)\n 12097    Maradona, the Hand of God (Maradona, la mano d...\n 14958                   Harvest Month, The (Elokuu) (1956)\n Name: title, Length: 18967, dtype: object,\n array([16.677773, 15.569359, 14.754047, ...,  0.      ,  0.      ,\n         0.      ], dtype=float32))"
     },
     "execution_count": 354,
     "metadata": {},
     "output_type": "execute_result"
    }
   ],
   "source": [
    "get_recommendation_user(2579)"
   ]
  },
  {
   "cell_type": "markdown",
   "metadata": {},
   "source": [
    "#### Observações finais:\n",
    "     -> Aparentemente tudo OK\n",
    "     -> A recomendação de usuário tem algumas ressalvas quanto a ela, mas por enquanto vou deixar assim pois quero seguir em frente\n",
    "     -> A otimização ficou mais tranquila, deu pra reduzir e corrigir alguns erros antigos\n",
    "     -> No mais acredito que esteja tudo ok, talvez mais para frente quando tiver com mais vontade vou transformar numa classe que nem o outro exemplo."
   ]
  }
 ],
 "metadata": {
  "kernelspec": {
   "display_name": "Python 3 (ipykernel)",
   "language": "python",
   "name": "python3"
  },
  "language_info": {
   "codemirror_mode": {
    "name": "ipython",
    "version": 3
   },
   "file_extension": ".py",
   "mimetype": "text/x-python",
   "name": "python",
   "nbconvert_exporter": "python",
   "pygments_lexer": "ipython3",
   "version": "3.10.7"
  }
 },
 "nbformat": 4,
 "nbformat_minor": 2
}
